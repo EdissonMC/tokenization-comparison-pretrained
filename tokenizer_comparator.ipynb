{
  "nbformat": 4,
  "nbformat_minor": 0,
  "metadata": {
    "colab": {
      "provenance": [],
      "authorship_tag": "ABX9TyM/QxdGDtSucikxhwfuX12a",
      "include_colab_link": true
    },
    "kernelspec": {
      "name": "python3",
      "display_name": "Python 3"
    },
    "language_info": {
      "name": "python"
    }
  },
  "cells": [
    {
      "cell_type": "markdown",
      "metadata": {
        "id": "view-in-github",
        "colab_type": "text"
      },
      "source": [
        "<a href=\"https://colab.research.google.com/github/EdissonMC/tokenization-comparison-pretrained/blob/main/tokenizer_comparator.ipynb\" target=\"_parent\"><img src=\"https://colab.research.google.com/assets/colab-badge.svg\" alt=\"Open In Colab\"/></a>"
      ]
    },
    {
      "cell_type": "markdown",
      "source": [
        "This project explores how different transformer-based language models tokenize the same input text.\n",
        "\n",
        "I will compare tokenization strategies used by BERT (WordPiece), GPT-2 (Byte Pair Encoding), and XLNet (SentencePiece).\n",
        "\n",
        "I will visualize and analyze token output, allowing users to see how the same sentence is broken down differently by each model.\n",
        "\n",
        "I will implement next features, looking forward to undertand diferent types of the tokenizers:\n",
        "\n",
        "- How different transformer models tokenize text using different strategies.\n",
        "- The differences in subword tokenization algorithms: WordPiece, BPE, and SentencePiece.\n",
        "- Simple Gradio interface for this applications running in real time.\n",
        "\n",
        "How to Run ?\n",
        "\n",
        "1. Clone the repository and open the notebook in Google Colab or your local Jupyter environment.\n",
        "2. Make sure to install the required libraries:\n",
        "3. Run all cells step-by-step to see the tokenization process and interact with the Gradio app.\n",
        "\n",
        "I use pretrained tokenizers from Hugging Face's `transformers` library:\n",
        "\n",
        "- `BertTokenizer` (WordPiece)\n",
        "- `GPT2Tokenizer` (Byte Pair Encoding)\n",
        "- `XLNetTokenizer` (SentencePiece)\n",
        "\n",
        "These tokenizers demonstrate distinct methods for splitting text into subwords, an essential step in transformer-based models.\n",
        "\n",
        "Tokenizers Used\n",
        "This project compares how three popular NLP models tokenize text using different algorithms. Here's a quick summary of each:\n",
        "\n",
        "BERT – WordPiece Tokenizer\n",
        "BERT uses the WordPiece tokenization algorithm. It starts with complete words and breaks them into subwords only when necessary. This helps in handling rare or unseen words efficiently.\n",
        "\n",
        "Example: \"unbelievable\" → [\"un\", \"##believable\"]\n",
        "\n",
        "Key Feature: Keeps most common words intact, breaking only unfamiliar parts.\n",
        "\n",
        "GPT-2 – Byte Pair Encoding (BPE)\n",
        "GPT-2 uses Byte Pair Encoding (BPE), which starts from characters and gradually merges the most frequent pairs of tokens. It's known for striking a balance between efficiency and vocabulary size.\n",
        "\n",
        "Example: \"unbelievable\" → [\"un\", \"bel\", \"iev\", \"able\"]\n",
        "\n",
        "Key Feature: Handles informal language and typos better due to its flexible subword merges.\n",
        "\n",
        "XLNet – SentencePiece Tokenizer\n",
        "XLNet uses SentencePiece, which treats input text as a raw sequence without assuming spaces between words. This makes it very flexible, especially for non-space-delimited languages.\n",
        "\n",
        "Example: \"unbelievable\" → [\"▁un\", \"believable\"]\n",
        "\n",
        "Key Feature: Works directly on raw text and handles multilingual input gracefully.\n",
        "\n",
        "\n"
      ],
      "metadata": {
        "id": "432bQVzSGBt6"
      }
    },
    {
      "cell_type": "code",
      "execution_count": 1,
      "metadata": {
        "id": "LKxGDmNEoN3h"
      },
      "outputs": [],
      "source": [
        "!pip install -q transformers gradio"
      ]
    },
    {
      "cell_type": "code",
      "source": [
        "from transformers import AutoTokenizer\n",
        "import pandas as pd\n",
        "import matplotlib.pyplot as plt\n",
        "import gradio as gr\n",
        "from transformers import BertTokenizer, GPT2Tokenizer, XLNetTokenizer\n"
      ],
      "metadata": {
        "id": "9C3a7k3xolbL"
      },
      "execution_count": 2,
      "outputs": []
    },
    {
      "cell_type": "code",
      "source": [
        "# Cargar tokenizadores de distintos modelos\n",
        "#bert_tokenizer = AutoTokenizer.from_pretrained(\"bert-base-uncased\")\n",
        "#gpt2_tokenizer = AutoTokenizer.from_pretrained(\"gpt2\")\n",
        "#xlnet_tokenizer = AutoTokenizer.from_pretrained(\"xlnet-base-cased\")\n",
        "\n",
        "# Inicializamos los tokenizers (esto se hace una vez)\n",
        "bert_tokenizer = BertTokenizer.from_pretrained(\"bert-base-uncased\")\n",
        "gpt2_tokenizer = GPT2Tokenizer.from_pretrained(\"gpt2\")\n",
        "xlnet_tokenizer = XLNetTokenizer.from_pretrained(\"xlnet-base-cased\")\n"
      ],
      "metadata": {
        "id": "vbSkzXWioyUM",
        "colab": {
          "base_uri": "https://localhost:8080/"
        },
        "outputId": "b0358e9e-8260-432f-c8f8-bf00581480aa"
      },
      "execution_count": 3,
      "outputs": [
        {
          "output_type": "stream",
          "name": "stderr",
          "text": [
            "/usr/local/lib/python3.11/dist-packages/huggingface_hub/utils/_auth.py:94: UserWarning: \n",
            "The secret `HF_TOKEN` does not exist in your Colab secrets.\n",
            "To authenticate with the Hugging Face Hub, create a token in your settings tab (https://huggingface.co/settings/tokens), set it as secret in your Google Colab and restart your session.\n",
            "You will be able to reuse this secret in all of your notebooks.\n",
            "Please note that authentication is recommended but still optional to access public models or datasets.\n",
            "  warnings.warn(\n"
          ]
        }
      ]
    },
    {
      "cell_type": "markdown",
      "source": [
        "In this section i tokenize the input using each tokenizer's with the  `.tokenize()` method to extract the list of string tokens (not token IDs).\n",
        "Each model’s tokenizer breaks the sentence into subword tokens based on its vocabulary and algorithm.\n",
        "\n"
      ],
      "metadata": {
        "id": "x3R3b4mIHeL_"
      }
    },
    {
      "cell_type": "markdown",
      "source": [
        "The example of paragraph i used here in, is a passage from Robert Frost's poem:\n",
        "\n",
        "> \"Two roads diverged in a yellow wood,  \n",
        "> And sorry I could not travel both  \n",
        "> And be one traveler, long I stood  \n",
        "> And looked down one as far as I could  \n",
        "> To where it bent in the undergrowth.\""
      ],
      "metadata": {
        "id": "RrV_TDBZIvdD"
      }
    },
    {
      "cell_type": "markdown",
      "source": [],
      "metadata": {
        "id": "Lmj3m7MhIu5C"
      }
    },
    {
      "cell_type": "code",
      "source": [
        "text = \"\"\"Two roads diverged in a yellow wood,\n",
        "And sorry I could not travel both\n",
        "And be one traveler, long I stood\n",
        "And looked down one as far as I could\n",
        "To where it bent in the undergrowth.\"\"\"\n",
        "\n",
        "bert_tokens = bert_tokenizer.tokenize(text)\n",
        "gpt2_tokens = gpt2_tokenizer.tokenize(text)\n",
        "xlnet_tokens = xlnet_tokenizer.tokenize(text)\n",
        "\n",
        "\n",
        "# Mostrar cantidad de tokens\n",
        "print(\"BERT tokens:\", len(bert_tokens))\n",
        "print(\"GPT-2 tokens:\", len(gpt2_tokens))\n",
        "print(\"XLNet tokens:\", len(xlnet_tokens))"
      ],
      "metadata": {
        "id": "40UyEkhUHq1Q",
        "colab": {
          "base_uri": "https://localhost:8080/"
        },
        "outputId": "2cae1475-8757-4ce7-9eb2-ff6d44028521"
      },
      "execution_count": 4,
      "outputs": [
        {
          "output_type": "stream",
          "name": "stdout",
          "text": [
            "BERT tokens: 42\n",
            "GPT-2 tokens: 46\n",
            "XLNet tokens: 42\n"
          ]
        }
      ]
    },
    {
      "cell_type": "markdown",
      "source": [
        "In this section  i will visualize the tokenized output and the number of tokens generated per tokenizer.\n",
        "I am using Matplotlib , for  display the len of tokens generated, so we could see:\n",
        "\n",
        "- A bar chart showing the number of tokens each tokenizer produces.\n",
        "- A side-by-side token comparison in a table.\n",
        "\n",
        "This gives a clear view of how tokenization varies across models.\n"
      ],
      "metadata": {
        "id": "k5jtSjkrGzaY"
      }
    },
    {
      "cell_type": "code",
      "source": [
        "import matplotlib.pyplot as plt\n",
        "\n",
        "\n",
        "\n",
        "# Datos para graficar\n",
        "models = ['BERT (WordPiece)', 'GPT-2 (BPE)', 'XLNet (SentencePiece)']\n",
        "token_counts = [len(bert_tokens), len(gpt2_tokens), len(xlnet_tokens)]\n",
        "\n",
        "# Gráfico de barras horizontal\n",
        "plt.figure(figsize=(8, 4))\n",
        "bars = plt.barh(models, token_counts, color=['#1f77b4', '#ff7f0e', '#2ca02c'])\n",
        "plt.xlabel(\"Número de tokens\")\n",
        "plt.title(\"Comparación de Tokenización por Modelo\")\n",
        "\n",
        "# Añadir etiquetas a las barras\n",
        "for bar in bars:\n",
        "    width = bar.get_width()\n",
        "    plt.text(width + 0.3, bar.get_y() + bar.get_height()/2,\n",
        "             f'{width} tokens', va='center')\n",
        "\n",
        "plt.tight_layout()\n",
        "plt.show()\n"
      ],
      "metadata": {
        "id": "CjckM9U_ymtf",
        "colab": {
          "base_uri": "https://localhost:8080/",
          "height": 407
        },
        "outputId": "5dacd8ff-4517-482c-adb8-931150411b46"
      },
      "execution_count": 5,
      "outputs": [
        {
          "output_type": "display_data",
          "data": {
            "text/plain": [
              "<Figure size 800x400 with 1 Axes>"
            ],
            "image/png": "[encoded data removed]"
          },
          "metadata": {}
        }
      ]
    },
    {
      "cell_type": "markdown",
      "source": [
        "This function takes a user-provided input sentence and tokenizes it using three different models:\n",
        "\n",
        "- **BERT**, which uses WordPiece tokenization\n",
        "- **GPT-2**, which uses Byte Pair Encoding (BPE)\n",
        "- **XLNet**, which uses SentencePiece\n",
        "\n",
        "Each tokenizer returns a list of tokens, but since they can produce different numbers of tokens, I have padding each list with empty strings to make them with the same length. This ensures we can present them side-by-side in a table (pandas DataFrame) for comparison.\n",
        "\n",
        "The resulting DataFrame has three columns, one for each tokenizer, with aligned token positions. This makes it easy to see how the same input is processed differently by each model.\n"
      ],
      "metadata": {
        "id": "9l4-EHfTJ76G"
      }
    },
    {
      "cell_type": "code",
      "source": [
        "\n",
        "\n",
        "def tokenize_text(text):\n",
        "    bert_tokens = bert_tokenizer.tokenize(text)\n",
        "    gpt2_tokens = gpt2_tokenizer.tokenize(text)\n",
        "    xlnet_tokens = xlnet_tokenizer.tokenize(text)\n",
        "\n",
        "    # Padding para alinear longitudes\n",
        "    max_len = max(len(bert_tokens), len(gpt2_tokens), len(xlnet_tokens))\n",
        "    bert_tokens += [''] * (max_len - len(bert_tokens))\n",
        "    gpt2_tokens += [''] * (max_len - len(gpt2_tokens))\n",
        "    xlnet_tokens += [''] * (max_len - len(xlnet_tokens))\n",
        "\n",
        "    # DataFrame\n",
        "    df = pd.DataFrame({\n",
        "        \"BERT (WordPiece)\": bert_tokens,\n",
        "        \"GPT-2 (BPE)\": gpt2_tokens,\n",
        "        \"XLNet (SentencePiece)\": xlnet_tokens\n",
        "    })\n",
        "\n",
        "\n",
        "    return df\n",
        "\n",
        "\n"
      ],
      "metadata": {
        "id": "virbyBCfsDbr"
      },
      "execution_count": 6,
      "outputs": []
    },
    {
      "cell_type": "code",
      "source": [
        "\n",
        "text = \"\"\"Two roads diverged in a yellow wood,\n",
        "And sorry I could not travel both\n",
        "And be one traveler, long I stood\n",
        "And looked down one as far as I could\n",
        "To where it bent in the undergrowth.\"\"\"\n",
        "\n",
        "df = tokenize_text(text)\n",
        "\n",
        "# Mostrarlo bonito\n",
        "df.style.set_table_styles([\n",
        "        {\"selector\": \"th\", \"props\": [(\"font-weight\", \"bold\"), (\"text-align\", \"center\")]},\n",
        "        {\"selector\": \"td\", \"props\": [(\"text-align\", \"center\")]}\n",
        "])\n"
      ],
      "metadata": {
        "id": "N4s-zvWNuDoP",
        "colab": {
          "base_uri": "https://localhost:8080/",
          "height": 1000
        },
        "outputId": "5cf2014b-5858-467e-e4c9-2a5bd113f5f6"
      },
      "execution_count": 7,
      "outputs": [
        {
          "output_type": "execute_result",
          "data": {
            "text/plain": [
              "<pandas.io.formats.style.Styler at 0x7d8eca1f29d0>"
            ],
            "text/html": [
              "<style type=\"text/css\">\n",
              "#T_0a984 th {\n",
              "  font-weight: bold;\n",
              "  text-align: center;\n",
              "}\n",
              "#T_0a984 td {\n",
              "  text-align: center;\n",
              "}\n",
              "</style>\n",
              "<table id=\"T_0a984\" class=\"dataframe\">\n",
              "  <thead>\n",
              "    <tr>\n",
              "      <th class=\"blank level0\" >&nbsp;</th>\n",
              "      <th id=\"T_0a984_level0_col0\" class=\"col_heading level0 col0\" >BERT (WordPiece)</th>\n",
              "      <th id=\"T_0a984_level0_col1\" class=\"col_heading level0 col1\" >GPT-2 (BPE)</th>\n",
              "      <th id=\"T_0a984_level0_col2\" class=\"col_heading level0 col2\" >XLNet (SentencePiece)</th>\n",
              "    </tr>\n",
              "  </thead>\n",
              "  <tbody>\n",
              "    <tr>\n",
              "      <th id=\"T_0a984_level0_row0\" class=\"row_heading level0 row0\" >0</th>\n",
              "      <td id=\"T_0a984_row0_col0\" class=\"data row0 col0\" >two</td>\n",
              "      <td id=\"T_0a984_row0_col1\" class=\"data row0 col1\" >Two</td>\n",
              "      <td id=\"T_0a984_row0_col2\" class=\"data row0 col2\" >▁Two</td>\n",
              "    </tr>\n",
              "    <tr>\n",
              "      <th id=\"T_0a984_level0_row1\" class=\"row_heading level0 row1\" >1</th>\n",
              "      <td id=\"T_0a984_row1_col0\" class=\"data row1 col0\" >roads</td>\n",
              "      <td id=\"T_0a984_row1_col1\" class=\"data row1 col1\" >Ġroads</td>\n",
              "      <td id=\"T_0a984_row1_col2\" class=\"data row1 col2\" >▁roads</td>\n",
              "    </tr>\n",
              "    <tr>\n",
              "      <th id=\"T_0a984_level0_row2\" class=\"row_heading level0 row2\" >2</th>\n",
              "      <td id=\"T_0a984_row2_col0\" class=\"data row2 col0\" >diver</td>\n",
              "      <td id=\"T_0a984_row2_col1\" class=\"data row2 col1\" >Ġdiver</td>\n",
              "      <td id=\"T_0a984_row2_col2\" class=\"data row2 col2\" >▁diverge</td>\n",
              "    </tr>\n",
              "    <tr>\n",
              "      <th id=\"T_0a984_level0_row3\" class=\"row_heading level0 row3\" >3</th>\n",
              "      <td id=\"T_0a984_row3_col0\" class=\"data row3 col0\" >##ged</td>\n",
              "      <td id=\"T_0a984_row3_col1\" class=\"data row3 col1\" >ged</td>\n",
              "      <td id=\"T_0a984_row3_col2\" class=\"data row3 col2\" >d</td>\n",
              "    </tr>\n",
              "    <tr>\n",
              "      <th id=\"T_0a984_level0_row4\" class=\"row_heading level0 row4\" >4</th>\n",
              "      <td id=\"T_0a984_row4_col0\" class=\"data row4 col0\" >in</td>\n",
              "      <td id=\"T_0a984_row4_col1\" class=\"data row4 col1\" >Ġin</td>\n",
              "      <td id=\"T_0a984_row4_col2\" class=\"data row4 col2\" >▁in</td>\n",
              "    </tr>\n",
              "    <tr>\n",
              "      <th id=\"T_0a984_level0_row5\" class=\"row_heading level0 row5\" >5</th>\n",
              "      <td id=\"T_0a984_row5_col0\" class=\"data row5 col0\" >a</td>\n",
              "      <td id=\"T_0a984_row5_col1\" class=\"data row5 col1\" >Ġa</td>\n",
              "      <td id=\"T_0a984_row5_col2\" class=\"data row5 col2\" >▁a</td>\n",
              "    </tr>\n",
              "    <tr>\n",
              "      <th id=\"T_0a984_level0_row6\" class=\"row_heading level0 row6\" >6</th>\n",
              "      <td id=\"T_0a984_row6_col0\" class=\"data row6 col0\" >yellow</td>\n",
              "      <td id=\"T_0a984_row6_col1\" class=\"data row6 col1\" >Ġyellow</td>\n",
              "      <td id=\"T_0a984_row6_col2\" class=\"data row6 col2\" >▁yellow</td>\n",
              "    </tr>\n",
              "    <tr>\n",
              "      <th id=\"T_0a984_level0_row7\" class=\"row_heading level0 row7\" >7</th>\n",
              "      <td id=\"T_0a984_row7_col0\" class=\"data row7 col0\" >wood</td>\n",
              "      <td id=\"T_0a984_row7_col1\" class=\"data row7 col1\" >Ġwood</td>\n",
              "      <td id=\"T_0a984_row7_col2\" class=\"data row7 col2\" >▁wood</td>\n",
              "    </tr>\n",
              "    <tr>\n",
              "      <th id=\"T_0a984_level0_row8\" class=\"row_heading level0 row8\" >8</th>\n",
              "      <td id=\"T_0a984_row8_col0\" class=\"data row8 col0\" >,</td>\n",
              "      <td id=\"T_0a984_row8_col1\" class=\"data row8 col1\" >,</td>\n",
              "      <td id=\"T_0a984_row8_col2\" class=\"data row8 col2\" >,</td>\n",
              "    </tr>\n",
              "    <tr>\n",
              "      <th id=\"T_0a984_level0_row9\" class=\"row_heading level0 row9\" >9</th>\n",
              "      <td id=\"T_0a984_row9_col0\" class=\"data row9 col0\" >and</td>\n",
              "      <td id=\"T_0a984_row9_col1\" class=\"data row9 col1\" >Ċ</td>\n",
              "      <td id=\"T_0a984_row9_col2\" class=\"data row9 col2\" >▁And</td>\n",
              "    </tr>\n",
              "    <tr>\n",
              "      <th id=\"T_0a984_level0_row10\" class=\"row_heading level0 row10\" >10</th>\n",
              "      <td id=\"T_0a984_row10_col0\" class=\"data row10 col0\" >sorry</td>\n",
              "      <td id=\"T_0a984_row10_col1\" class=\"data row10 col1\" >And</td>\n",
              "      <td id=\"T_0a984_row10_col2\" class=\"data row10 col2\" >▁sorry</td>\n",
              "    </tr>\n",
              "    <tr>\n",
              "      <th id=\"T_0a984_level0_row11\" class=\"row_heading level0 row11\" >11</th>\n",
              "      <td id=\"T_0a984_row11_col0\" class=\"data row11 col0\" >i</td>\n",
              "      <td id=\"T_0a984_row11_col1\" class=\"data row11 col1\" >Ġsorry</td>\n",
              "      <td id=\"T_0a984_row11_col2\" class=\"data row11 col2\" >▁I</td>\n",
              "    </tr>\n",
              "    <tr>\n",
              "      <th id=\"T_0a984_level0_row12\" class=\"row_heading level0 row12\" >12</th>\n",
              "      <td id=\"T_0a984_row12_col0\" class=\"data row12 col0\" >could</td>\n",
              "      <td id=\"T_0a984_row12_col1\" class=\"data row12 col1\" >ĠI</td>\n",
              "      <td id=\"T_0a984_row12_col2\" class=\"data row12 col2\" >▁could</td>\n",
              "    </tr>\n",
              "    <tr>\n",
              "      <th id=\"T_0a984_level0_row13\" class=\"row_heading level0 row13\" >13</th>\n",
              "      <td id=\"T_0a984_row13_col0\" class=\"data row13 col0\" >not</td>\n",
              "      <td id=\"T_0a984_row13_col1\" class=\"data row13 col1\" >Ġcould</td>\n",
              "      <td id=\"T_0a984_row13_col2\" class=\"data row13 col2\" >▁not</td>\n",
              "    </tr>\n",
              "    <tr>\n",
              "      <th id=\"T_0a984_level0_row14\" class=\"row_heading level0 row14\" >14</th>\n",
              "      <td id=\"T_0a984_row14_col0\" class=\"data row14 col0\" >travel</td>\n",
              "      <td id=\"T_0a984_row14_col1\" class=\"data row14 col1\" >Ġnot</td>\n",
              "      <td id=\"T_0a984_row14_col2\" class=\"data row14 col2\" >▁travel</td>\n",
              "    </tr>\n",
              "    <tr>\n",
              "      <th id=\"T_0a984_level0_row15\" class=\"row_heading level0 row15\" >15</th>\n",
              "      <td id=\"T_0a984_row15_col0\" class=\"data row15 col0\" >both</td>\n",
              "      <td id=\"T_0a984_row15_col1\" class=\"data row15 col1\" >Ġtravel</td>\n",
              "      <td id=\"T_0a984_row15_col2\" class=\"data row15 col2\" >▁both</td>\n",
              "    </tr>\n",
              "    <tr>\n",
              "      <th id=\"T_0a984_level0_row16\" class=\"row_heading level0 row16\" >16</th>\n",
              "      <td id=\"T_0a984_row16_col0\" class=\"data row16 col0\" >and</td>\n",
              "      <td id=\"T_0a984_row16_col1\" class=\"data row16 col1\" >Ġboth</td>\n",
              "      <td id=\"T_0a984_row16_col2\" class=\"data row16 col2\" >▁And</td>\n",
              "    </tr>\n",
              "    <tr>\n",
              "      <th id=\"T_0a984_level0_row17\" class=\"row_heading level0 row17\" >17</th>\n",
              "      <td id=\"T_0a984_row17_col0\" class=\"data row17 col0\" >be</td>\n",
              "      <td id=\"T_0a984_row17_col1\" class=\"data row17 col1\" >Ċ</td>\n",
              "      <td id=\"T_0a984_row17_col2\" class=\"data row17 col2\" >▁be</td>\n",
              "    </tr>\n",
              "    <tr>\n",
              "      <th id=\"T_0a984_level0_row18\" class=\"row_heading level0 row18\" >18</th>\n",
              "      <td id=\"T_0a984_row18_col0\" class=\"data row18 col0\" >one</td>\n",
              "      <td id=\"T_0a984_row18_col1\" class=\"data row18 col1\" >And</td>\n",
              "      <td id=\"T_0a984_row18_col2\" class=\"data row18 col2\" >▁one</td>\n",
              "    </tr>\n",
              "    <tr>\n",
              "      <th id=\"T_0a984_level0_row19\" class=\"row_heading level0 row19\" >19</th>\n",
              "      <td id=\"T_0a984_row19_col0\" class=\"data row19 col0\" >traveler</td>\n",
              "      <td id=\"T_0a984_row19_col1\" class=\"data row19 col1\" >Ġbe</td>\n",
              "      <td id=\"T_0a984_row19_col2\" class=\"data row19 col2\" >▁traveler</td>\n",
              "    </tr>\n",
              "    <tr>\n",
              "      <th id=\"T_0a984_level0_row20\" class=\"row_heading level0 row20\" >20</th>\n",
              "      <td id=\"T_0a984_row20_col0\" class=\"data row20 col0\" >,</td>\n",
              "      <td id=\"T_0a984_row20_col1\" class=\"data row20 col1\" >Ġone</td>\n",
              "      <td id=\"T_0a984_row20_col2\" class=\"data row20 col2\" >,</td>\n",
              "    </tr>\n",
              "    <tr>\n",
              "      <th id=\"T_0a984_level0_row21\" class=\"row_heading level0 row21\" >21</th>\n",
              "      <td id=\"T_0a984_row21_col0\" class=\"data row21 col0\" >long</td>\n",
              "      <td id=\"T_0a984_row21_col1\" class=\"data row21 col1\" >Ġtraveler</td>\n",
              "      <td id=\"T_0a984_row21_col2\" class=\"data row21 col2\" >▁long</td>\n",
              "    </tr>\n",
              "    <tr>\n",
              "      <th id=\"T_0a984_level0_row22\" class=\"row_heading level0 row22\" >22</th>\n",
              "      <td id=\"T_0a984_row22_col0\" class=\"data row22 col0\" >i</td>\n",
              "      <td id=\"T_0a984_row22_col1\" class=\"data row22 col1\" >,</td>\n",
              "      <td id=\"T_0a984_row22_col2\" class=\"data row22 col2\" >▁I</td>\n",
              "    </tr>\n",
              "    <tr>\n",
              "      <th id=\"T_0a984_level0_row23\" class=\"row_heading level0 row23\" >23</th>\n",
              "      <td id=\"T_0a984_row23_col0\" class=\"data row23 col0\" >stood</td>\n",
              "      <td id=\"T_0a984_row23_col1\" class=\"data row23 col1\" >Ġlong</td>\n",
              "      <td id=\"T_0a984_row23_col2\" class=\"data row23 col2\" >▁stood</td>\n",
              "    </tr>\n",
              "    <tr>\n",
              "      <th id=\"T_0a984_level0_row24\" class=\"row_heading level0 row24\" >24</th>\n",
              "      <td id=\"T_0a984_row24_col0\" class=\"data row24 col0\" >and</td>\n",
              "      <td id=\"T_0a984_row24_col1\" class=\"data row24 col1\" >ĠI</td>\n",
              "      <td id=\"T_0a984_row24_col2\" class=\"data row24 col2\" >▁And</td>\n",
              "    </tr>\n",
              "    <tr>\n",
              "      <th id=\"T_0a984_level0_row25\" class=\"row_heading level0 row25\" >25</th>\n",
              "      <td id=\"T_0a984_row25_col0\" class=\"data row25 col0\" >looked</td>\n",
              "      <td id=\"T_0a984_row25_col1\" class=\"data row25 col1\" >Ġstood</td>\n",
              "      <td id=\"T_0a984_row25_col2\" class=\"data row25 col2\" >▁looked</td>\n",
              "    </tr>\n",
              "    <tr>\n",
              "      <th id=\"T_0a984_level0_row26\" class=\"row_heading level0 row26\" >26</th>\n",
              "      <td id=\"T_0a984_row26_col0\" class=\"data row26 col0\" >down</td>\n",
              "      <td id=\"T_0a984_row26_col1\" class=\"data row26 col1\" >Ċ</td>\n",
              "      <td id=\"T_0a984_row26_col2\" class=\"data row26 col2\" >▁down</td>\n",
              "    </tr>\n",
              "    <tr>\n",
              "      <th id=\"T_0a984_level0_row27\" class=\"row_heading level0 row27\" >27</th>\n",
              "      <td id=\"T_0a984_row27_col0\" class=\"data row27 col0\" >one</td>\n",
              "      <td id=\"T_0a984_row27_col1\" class=\"data row27 col1\" >And</td>\n",
              "      <td id=\"T_0a984_row27_col2\" class=\"data row27 col2\" >▁one</td>\n",
              "    </tr>\n",
              "    <tr>\n",
              "      <th id=\"T_0a984_level0_row28\" class=\"row_heading level0 row28\" >28</th>\n",
              "      <td id=\"T_0a984_row28_col0\" class=\"data row28 col0\" >as</td>\n",
              "      <td id=\"T_0a984_row28_col1\" class=\"data row28 col1\" >Ġlooked</td>\n",
              "      <td id=\"T_0a984_row28_col2\" class=\"data row28 col2\" >▁as</td>\n",
              "    </tr>\n",
              "    <tr>\n",
              "      <th id=\"T_0a984_level0_row29\" class=\"row_heading level0 row29\" >29</th>\n",
              "      <td id=\"T_0a984_row29_col0\" class=\"data row29 col0\" >far</td>\n",
              "      <td id=\"T_0a984_row29_col1\" class=\"data row29 col1\" >Ġdown</td>\n",
              "      <td id=\"T_0a984_row29_col2\" class=\"data row29 col2\" >▁far</td>\n",
              "    </tr>\n",
              "    <tr>\n",
              "      <th id=\"T_0a984_level0_row30\" class=\"row_heading level0 row30\" >30</th>\n",
              "      <td id=\"T_0a984_row30_col0\" class=\"data row30 col0\" >as</td>\n",
              "      <td id=\"T_0a984_row30_col1\" class=\"data row30 col1\" >Ġone</td>\n",
              "      <td id=\"T_0a984_row30_col2\" class=\"data row30 col2\" >▁as</td>\n",
              "    </tr>\n",
              "    <tr>\n",
              "      <th id=\"T_0a984_level0_row31\" class=\"row_heading level0 row31\" >31</th>\n",
              "      <td id=\"T_0a984_row31_col0\" class=\"data row31 col0\" >i</td>\n",
              "      <td id=\"T_0a984_row31_col1\" class=\"data row31 col1\" >Ġas</td>\n",
              "      <td id=\"T_0a984_row31_col2\" class=\"data row31 col2\" >▁I</td>\n",
              "    </tr>\n",
              "    <tr>\n",
              "      <th id=\"T_0a984_level0_row32\" class=\"row_heading level0 row32\" >32</th>\n",
              "      <td id=\"T_0a984_row32_col0\" class=\"data row32 col0\" >could</td>\n",
              "      <td id=\"T_0a984_row32_col1\" class=\"data row32 col1\" >Ġfar</td>\n",
              "      <td id=\"T_0a984_row32_col2\" class=\"data row32 col2\" >▁could</td>\n",
              "    </tr>\n",
              "    <tr>\n",
              "      <th id=\"T_0a984_level0_row33\" class=\"row_heading level0 row33\" >33</th>\n",
              "      <td id=\"T_0a984_row33_col0\" class=\"data row33 col0\" >to</td>\n",
              "      <td id=\"T_0a984_row33_col1\" class=\"data row33 col1\" >Ġas</td>\n",
              "      <td id=\"T_0a984_row33_col2\" class=\"data row33 col2\" >▁To</td>\n",
              "    </tr>\n",
              "    <tr>\n",
              "      <th id=\"T_0a984_level0_row34\" class=\"row_heading level0 row34\" >34</th>\n",
              "      <td id=\"T_0a984_row34_col0\" class=\"data row34 col0\" >where</td>\n",
              "      <td id=\"T_0a984_row34_col1\" class=\"data row34 col1\" >ĠI</td>\n",
              "      <td id=\"T_0a984_row34_col2\" class=\"data row34 col2\" >▁where</td>\n",
              "    </tr>\n",
              "    <tr>\n",
              "      <th id=\"T_0a984_level0_row35\" class=\"row_heading level0 row35\" >35</th>\n",
              "      <td id=\"T_0a984_row35_col0\" class=\"data row35 col0\" >it</td>\n",
              "      <td id=\"T_0a984_row35_col1\" class=\"data row35 col1\" >Ġcould</td>\n",
              "      <td id=\"T_0a984_row35_col2\" class=\"data row35 col2\" >▁it</td>\n",
              "    </tr>\n",
              "    <tr>\n",
              "      <th id=\"T_0a984_level0_row36\" class=\"row_heading level0 row36\" >36</th>\n",
              "      <td id=\"T_0a984_row36_col0\" class=\"data row36 col0\" >bent</td>\n",
              "      <td id=\"T_0a984_row36_col1\" class=\"data row36 col1\" >Ċ</td>\n",
              "      <td id=\"T_0a984_row36_col2\" class=\"data row36 col2\" >▁bent</td>\n",
              "    </tr>\n",
              "    <tr>\n",
              "      <th id=\"T_0a984_level0_row37\" class=\"row_heading level0 row37\" >37</th>\n",
              "      <td id=\"T_0a984_row37_col0\" class=\"data row37 col0\" >in</td>\n",
              "      <td id=\"T_0a984_row37_col1\" class=\"data row37 col1\" >To</td>\n",
              "      <td id=\"T_0a984_row37_col2\" class=\"data row37 col2\" >▁in</td>\n",
              "    </tr>\n",
              "    <tr>\n",
              "      <th id=\"T_0a984_level0_row38\" class=\"row_heading level0 row38\" >38</th>\n",
              "      <td id=\"T_0a984_row38_col0\" class=\"data row38 col0\" >the</td>\n",
              "      <td id=\"T_0a984_row38_col1\" class=\"data row38 col1\" >Ġwhere</td>\n",
              "      <td id=\"T_0a984_row38_col2\" class=\"data row38 col2\" >▁the</td>\n",
              "    </tr>\n",
              "    <tr>\n",
              "      <th id=\"T_0a984_level0_row39\" class=\"row_heading level0 row39\" >39</th>\n",
              "      <td id=\"T_0a984_row39_col0\" class=\"data row39 col0\" >under</td>\n",
              "      <td id=\"T_0a984_row39_col1\" class=\"data row39 col1\" >Ġit</td>\n",
              "      <td id=\"T_0a984_row39_col2\" class=\"data row39 col2\" >▁under</td>\n",
              "    </tr>\n",
              "    <tr>\n",
              "      <th id=\"T_0a984_level0_row40\" class=\"row_heading level0 row40\" >40</th>\n",
              "      <td id=\"T_0a984_row40_col0\" class=\"data row40 col0\" >##growth</td>\n",
              "      <td id=\"T_0a984_row40_col1\" class=\"data row40 col1\" >Ġbent</td>\n",
              "      <td id=\"T_0a984_row40_col2\" class=\"data row40 col2\" >growth</td>\n",
              "    </tr>\n",
              "    <tr>\n",
              "      <th id=\"T_0a984_level0_row41\" class=\"row_heading level0 row41\" >41</th>\n",
              "      <td id=\"T_0a984_row41_col0\" class=\"data row41 col0\" >.</td>\n",
              "      <td id=\"T_0a984_row41_col1\" class=\"data row41 col1\" >Ġin</td>\n",
              "      <td id=\"T_0a984_row41_col2\" class=\"data row41 col2\" >.</td>\n",
              "    </tr>\n",
              "    <tr>\n",
              "      <th id=\"T_0a984_level0_row42\" class=\"row_heading level0 row42\" >42</th>\n",
              "      <td id=\"T_0a984_row42_col0\" class=\"data row42 col0\" ></td>\n",
              "      <td id=\"T_0a984_row42_col1\" class=\"data row42 col1\" >Ġthe</td>\n",
              "      <td id=\"T_0a984_row42_col2\" class=\"data row42 col2\" ></td>\n",
              "    </tr>\n",
              "    <tr>\n",
              "      <th id=\"T_0a984_level0_row43\" class=\"row_heading level0 row43\" >43</th>\n",
              "      <td id=\"T_0a984_row43_col0\" class=\"data row43 col0\" ></td>\n",
              "      <td id=\"T_0a984_row43_col1\" class=\"data row43 col1\" >Ġunder</td>\n",
              "      <td id=\"T_0a984_row43_col2\" class=\"data row43 col2\" ></td>\n",
              "    </tr>\n",
              "    <tr>\n",
              "      <th id=\"T_0a984_level0_row44\" class=\"row_heading level0 row44\" >44</th>\n",
              "      <td id=\"T_0a984_row44_col0\" class=\"data row44 col0\" ></td>\n",
              "      <td id=\"T_0a984_row44_col1\" class=\"data row44 col1\" >growth</td>\n",
              "      <td id=\"T_0a984_row44_col2\" class=\"data row44 col2\" ></td>\n",
              "    </tr>\n",
              "    <tr>\n",
              "      <th id=\"T_0a984_level0_row45\" class=\"row_heading level0 row45\" >45</th>\n",
              "      <td id=\"T_0a984_row45_col0\" class=\"data row45 col0\" ></td>\n",
              "      <td id=\"T_0a984_row45_col1\" class=\"data row45 col1\" >.</td>\n",
              "      <td id=\"T_0a984_row45_col2\" class=\"data row45 col2\" ></td>\n",
              "    </tr>\n",
              "  </tbody>\n",
              "</table>\n"
            ]
          },
          "metadata": {},
          "execution_count": 7
        }
      ]
    },
    {
      "cell_type": "markdown",
      "source": [
        "\n",
        "I used Gradio to create a simple and interactive web interface that lets users experiment with different tokenization strategies.\n",
        "\n",
        "Inputs: A multiline text box where users can type or paste a sentence.\n",
        "\n",
        "Outputs: A table that displays the tokenized output from BERT, GPT-2, and XLNet.\n",
        "\n",
        "Function: The tokenize_interface function wraps my main tokenize_text logic and returns a DataFrame for Gradio to render.\n",
        "\n",
        "When the interface is launched, it presents a clean UI where users can try various sentences and instantly see how each model processes the input.\n",
        "\n",
        "The interface runs locally and also generated a link for shared the app, after run this cell.\n",
        "\n"
      ],
      "metadata": {
        "id": "TKYxwacdGdkO"
      }
    },
    {
      "cell_type": "code",
      "source": [
        "interface = gr.Interface(\n",
        "    fn=tokenize_text,\n",
        "    inputs=gr.Textbox(label=\"Escribe una oración para tokenizar\"),\n",
        "    outputs=gr.Dataframe(label=\"Tokens por modelo\"),\n",
        "    title=\"Comparador de Tokenizers (BERT vs GPT-2 vs XLNet)\",\n",
        "    description=\"Este demo tokeniza tu entrada con 3 algoritmos diferentes de tokenización.\"\n",
        ")\n",
        "\n",
        "interface.launch(debug=True)\n",
        "\n"
      ],
      "metadata": {
        "colab": {
          "base_uri": "https://localhost:8080/",
          "height": 646
        },
        "id": "9OuFe30HsKVs",
        "outputId": "09dcfd2c-025c-43cb-c78b-75344f4ee456"
      },
      "execution_count": null,
      "outputs": [
        {
          "output_type": "stream",
          "name": "stdout",
          "text": [
            "Running Gradio in a Colab notebook requires sharing enabled. Automatically setting `share=True` (you can turn this off by setting `share=False` in `launch()` explicitly).\n",
            "\n",
            "Colab notebook detected. This cell will run indefinitely so that you can see errors and logs. To turn off, set debug=False in launch().\n",
            "* Running on public URL: https://dcbd8562d9419cba37.gradio.live\n",
            "\n",
            "This share link expires in 72 hours. For free permanent hosting and GPU upgrades, run `gradio deploy` from the terminal in the working directory to deploy to Hugging Face Spaces (https://huggingface.co/spaces)\n"
          ]
        },
        {
          "output_type": "display_data",
          "data": {
            "text/plain": [
              "<IPython.core.display.HTML object>"
            ],
            "text/html": [
              "<div><iframe src=\"https://dcbd8562d9419cba37.gradio.live\" width=\"100%\" height=\"500\" allow=\"autoplay; camera; microphone; clipboard-read; clipboard-write;\" frameborder=\"0\" allowfullscreen></iframe></div>"
            ]
          },
          "metadata": {}
        }
      ]
    }
  ]
}